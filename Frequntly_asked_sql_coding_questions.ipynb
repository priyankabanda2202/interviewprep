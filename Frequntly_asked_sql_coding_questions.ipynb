{
  "cells": [
    {
      "cell_type": "code",
      "execution_count": 13,
      "metadata": {
        "colab": {
          "base_uri": "https://localhost:8080/"
        },
        "id": "_Vq3z1fNb0ta",
        "outputId": "e5d9a62d-ab80-4afa-c3e2-bd827d7e0ed9"
      },
      "outputs": [
        {
          "name": "stdout",
          "output_type": "stream",
          "text": [
            "Please enter an integer:8878\n",
            "the entered number is : 8878\n",
            "After reversing  8788\n"
          ]
        }
      ],
      "source": [
        "#write a sql program to find the avg salary of each department gievn employee table and department table :\n",
        "\n",
        "#employeee table:\n",
        "\n",
        "\n",
        "EmployeeID\tName\t        Age  DepartmentID\tSalary\n",
        "1        \tJohn Doe\t30\t1\t        90000\n",
        "2       \tJane Doe\t34\t2\t        80000\n",
        "3       \tJim Beam\t40\t1\t        95000\n",
        "4        \tJack Reacher\t28\t3\t        60000\n",
        "5       \tJill Stein\t35\t2\t        72000\n",
        " \n",
        " #department table\n",
        "DepartmentID\tDepartmentName\n",
        "1\t            IT\n",
        "2\t            HR\n",
        "3              \tMarketing\n",
        "\n",
        "\n",
        "\n",
        "# SELECT  AVG(Salary)  from Employeetable \n",
        "# INNER join DepartmentID\tDepartmentName Salary\n",
        "# ON EMPLOYEE_Table.DepartmentID=DEPT_Table\n",
        "\n",
        "\n",
        "#  SELECT DepartmentID\tfrom EMP_Table\n",
        "# where ASC(Salary)\n",
        "\n",
        " \n",
        "EmployeeID\tName\t        Age  DepartmentID\tSalary\n",
        "1        \tJohn Doe\t30\t1\t        90000\n",
        "2       \tJane Doe\t34\t2\t        80000\n",
        "3       \tJim Beam\t40\t1\t        95000\n",
        "4        \tJack Reacher\t28\t3\t        60000\n",
        "5       \tJill Stein\t35\t2\t        72000\n",
        " \n",
        " \n",
        "DepartmentID\tDepartmentName\n",
        "1\t            IT\n",
        "2\t            HR\n",
        "3              \tMarketing\n",
        "\n",
        "\n",
        "#wap to get thedepatmnt id which i having the  highest salry \n",
        "a)select EmployeeID, OrderID from Orders where OrderID=(select max(OrderID) from Orders);\n",
        "SELECT  AVG(Salary)  from Employeetable \n",
        "INNER join DepartmentID\tDepartmentName Salary\n",
        "ON EMPLOYEE_Table.DepartmentID=DEPT_Table\n",
        "\n",
        "\n",
        " SELECT DepartmentID\tfrom EMP_Table\n",
        "where ASC(Salary)\n",
        "\n",
        " \n"
      ]
    },
    {
      "cell_type": "code",
      "execution_count": 14,
      "metadata": {
        "colab": {
          "base_uri": "https://localhost:8080/"
        },
        "id": "KNUCpPkJncnN",
        "outputId": "482c9085-581a-4e5a-86e4-fae550ba6f27"
      },
      "outputs": [
        {
          "name": "stdout",
          "output_type": "stream",
          "text": [
            "please enter a number:68798\n",
            "original number: 68798\n",
            "after reversing: 89786\n"
          ]
        }
      ],
      "source": [
        "#using slicing operator---------------**\n",
        "def reverse_number(number):\n",
        "    num_list=list(str(number))\n",
        "    reversed_num=int(''.join(num_list[::-1]))\n",
        "    return reversed_num\n",
        "\n",
        "original_number=int(input(\"please enter a number:\"))\n",
        "result=reverse_number(original_number)\n",
        "print(\"original number:\",original_number)\n",
        "print(\"after reversing:\",result)"
      ]
    },
    {
      "cell_type": "code",
      "execution_count": null,
      "metadata": {
        "id": "XS7R2iSPnz6u"
      },
      "outputs": [],
      "source": [
        "#python program to determine  whether the number is a Armstrng number or not\n",
        "#function to calculate x raised  to raised to power of y\n",
        "\n",
        "def power(x,y):\n",
        "  if y==0:\n",
        "    return 1\n",
        "  if y%2==0:\n",
        "    return power(x,y//2)*power(x,y//2)\n",
        "  return x*power(x,y//2)*power(x,y//2)\n",
        "\n",
        "#Function to calculate order of the number\n",
        "def order(x):\n",
        "  #variable to store of the number\n",
        "  n=0\n",
        "  while(x!=0):\n",
        "    n=n+1\n",
        "    x=x//10\n",
        "  return n\n",
        "\n",
        "#function to check whether the given number is a amstrong or not :\n",
        "def isArmstrong(x):\n",
        "  n=order(x)\n",
        "  temp=x\n",
        "  sum1=0\n",
        "  while(temp!=0):\n",
        "    r=temp%10\n",
        "    sum1=sum1+power(r,n)\n",
        "    temp=temp//10\n",
        "  #if condition satisfies\n",
        "  return (sum1==x)\n",
        "\n",
        "#Driver code:\n",
        "x=153\n",
        "print(isArmstrong(x))\n",
        "x=1253\n",
        "print(isArmstrong(x))\n",
        "#153=1*1*1+5*5*5+3*3*3//153 is a armstrong number\n",
        "#120 is not a Armstrong number.1*1*1 + 2*2*2 + 0*0*0 = 9"
      ]
    },
    {
      "cell_type": "code",
      "execution_count": 26,
      "metadata": {
        "colab": {
          "base_uri": "https://localhost:8080/"
        },
        "id": "XTTp9vinzUzC",
        "outputId": "38d98ba1-4aca-474d-ffeb-46965e94702a"
      },
      "outputs": [
        {
          "name": "stdout",
          "output_type": "stream",
          "text": [
            "4 is not prime\n"
          ]
        }
      ],
      "source": [
        "#Prime Number Program in Python with Explanation\n",
        "num=4\n",
        "\n",
        "if num >1:\n",
        "  for i in range(2,int(num/2)+1):\n",
        "\n",
        "    if (num%i)==0:\n",
        "      print(num,\"is not prime\")\n",
        "      break\n",
        "  else:\n",
        "      print(num,\"is prime\")\n",
        "else:\n",
        "  print(num,\"is not prime\")"
      ]
    },
    {
      "cell_type": "code",
      "execution_count": 28,
      "metadata": {
        "colab": {
          "base_uri": "https://localhost:8080/"
        },
        "id": "ZbZ_uNEUzU01",
        "outputId": "1b8d5678-ec6a-4ad7-ee44-62c951fef414"
      },
      "outputs": [
        {
          "name": "stdout",
          "output_type": "stream",
          "text": [
            "fibonacci Series: 0 1 1 2 3 5 8 13 21 34\n"
          ]
        }
      ],
      "source": [
        "def fibonacci(n):\n",
        "  l=[0,1]\n",
        "  for i in range(2,n):\n",
        "    l.append(l[-1]+l[-2])\n",
        "  return l\n",
        "#Main function\n",
        "if __name__==\"__main__\":\n",
        "  #defning total numer of elements:\n",
        "  n=10\n",
        "  #calling the fibonacci function\n",
        "  fibo=fibonacci(n)\n",
        "  #displaying the function\n",
        "  print(\"fibonacci Series:\",*fibo)\n"
      ]
    },
    {
      "cell_type": "code",
      "execution_count": null,
      "metadata": {
        "id": "WTOQJElJzU34"
      },
      "outputs": [],
      "source": [
        "#numner palindrome or not\n",
        "num=input(\"Please enter a number:\")\n",
        "if num==num[::-1]:\n",
        "  print(\"yes it is sa palindrome\")\n",
        "else:\n",
        "  print(\"no it is not a palindrome\")"
      ]
    },
    {
      "cell_type": "code",
      "execution_count": 30,
      "metadata": {
        "colab": {
          "base_uri": "https://localhost:8080/"
        },
        "id": "AJBUl0N5zU5V",
        "outputId": "d5a522c2-86f6-4dde-d910-d9fe32caa27b"
      },
      "outputs": [
        {
          "name": "stdout",
          "output_type": "stream",
          "text": [
            "Please give a string:hgajhskj\n",
            "Please give a character to remove:h\n",
            "gajskj\n"
          ]
        }
      ],
      "source": [
        "#Python program to remove given character from String.\n",
        "def remove_char(s1,s2):\n",
        "  #string.replace(oldvalue, newvalue, count)\n",
        "  print(s1.replace(s2,''))\n",
        "s1=input(\"Please give a string:\")\n",
        "s2=input(\"Please give a character to remove:\")\n",
        "remove_char(s1,s2)"
      ]
    },
    {
      "cell_type": "code",
      "execution_count": 31,
      "metadata": {
        "colab": {
          "base_uri": "https://localhost:8080/"
        },
        "id": "b5do2zsWCGK0",
        "outputId": "1bb2eeb8-81d6-4a2c-a8e0-e6b8f8636de7"
      },
      "outputs": [
        {
          "name": "stdout",
          "output_type": "stream",
          "text": [
            "please enter  a string:hdgihruhirjjaioa\n",
            "Please enter a Character:h\n",
            "Total number of occurances of  h is: 3\n"
          ]
        }
      ],
      "source": [
        "#Python Program to count occurrence of a given characters in string.----****\n",
        "\n",
        "string=input(\"please enter  a string:\")\n",
        "char=input(\"Please enter a Character:\")\n",
        "count=0\n",
        "for i in range(len(string)):\n",
        "  if (string[i]==char):\n",
        "    count+=1\n",
        "print(\"Total number of occurances of \",char,\"is:\",count)\n",
        "\n",
        "\n",
        "\n"
      ]
    },
    {
      "cell_type": "code",
      "execution_count": 33,
      "metadata": {
        "colab": {
          "base_uri": "https://localhost:8080/"
        },
        "id": "hQ9goB9sGxjt",
        "outputId": "7c0e3e24-959b-4bbf-c7f6-e454cf140bc5"
      },
      "outputs": [
        {
          "name": "stdout",
          "output_type": "stream",
          "text": [
            "please eenter a strng:abc\n",
            "please enter a strng2:cba\n"
          ]
        },
        {
          "data": {
            "text/plain": [
              "True"
            ]
          },
          "execution_count": 33,
          "metadata": {},
          "output_type": "execute_result"
        }
      ],
      "source": [
        "#Python Program to check if two Strings are Anagram.\n",
        "\n",
        "\n",
        "def anagram(str1,str2):\n",
        "  if (sorted(str1)==sorted(str2)):\n",
        "    return True\n",
        "  else:\n",
        "    return False\n",
        "string1=input(\"please eenter a strng:\")\n",
        "string2=input(\"please enter a strng2:\")\n",
        "anagram(string1,string2)"
      ]
    },
    {
      "cell_type": "code",
      "execution_count": null,
      "metadata": {
        "id": "RnoVXRvLLm8B"
      },
      "outputs": [],
      "source": [
        "##II\n",
        "\n",
        "Input: nums = [2,7,11,15], target = 9\n",
        "Output: [0,1]\n",
        "\n",
        "\n",
        "##my written ans:\n",
        "# l1= [2,7,11,15]\n",
        "# target = \n",
        "# for i in range(len(l1)+1):\n",
        "#   #print(l1[i],l1[i+1])\n",
        "#   if l1[i]+l1[i+1]==target:\n",
        "#     print(\"target is sum of :\",i,i+1)\n",
        "#     break\n",
        "#     i+=1\n",
        "#   else:\n",
        "#     #print(\"target  not matching\")\n",
        "#     pass\n",
        "\n"
      ]
    },
    {
      "cell_type": "code",
      "execution_count": null,
      "metadata": {},
      "outputs": [],
      "source": [
        "##I\n",
        "Find the Missing Number in a List \n",
        "Write a Python function that takes a list of consecutive numbers (except one missing number) as input and returns the missing number. \n",
        "Example:\n",
        "find_missing([1, 2, 3, 4, 6, 7, 8, 9, 10]) => 5\n",
        "\n",
        "\n",
        "\n",
        "# #My ans:\n",
        "# l=[1, 2, 3, 4,5, 6, 7, 8,10]\n",
        "# l1=max(l)\n",
        "# for i in range(1,11):\n",
        "#   #print(i,l[i-1])\n",
        "#   if l[i-1]==i:\n",
        "#     #print(\"No itemis missing\")\n",
        "#     i+=1\n",
        "#   else:\n",
        "#     print(i , \"is missing\")\n",
        "#     i+=1\n",
        "#     break"
      ]
    },
    {
      "cell_type": "code",
      "execution_count": null,
      "metadata": {},
      "outputs": [],
      "source": [
        "#I\n",
        "\n",
        "#WAP for reversing a string \n",
        "# str='hello'\n",
        "# str=list(str)\n",
        "# str=str[::-1]\n",
        "# str=''.join(str)\n",
        "# print(str)\n",
        "#a)olleh\n",
        "#I\n",
        "#WAP for dfining clas and and functions\n",
        "# class hello:\n",
        "#   def f1(self):\n",
        "#     print(\"in f1\")\n",
        "#   def f2(self):\n",
        "#     print(\"in f2\")\n",
        "# a=1\n",
        "# hello.f2(a)\n",
        "#a)in f2\n",
        "\n"
      ]
    },
    {
      "cell_type": "code",
      "execution_count": null,
      "metadata": {},
      "outputs": [],
      "source": []
    },
    {
      "cell_type": "code",
      "execution_count": null,
      "metadata": {},
      "outputs": [],
      "source": [
        "#I\n",
        "#WAP to find the sum of elements of a list\n",
        "\n",
        "my_list=[1,2,3,4,6,7,8,9]\n",
        "print(\"The give list is :\"my_list)\n",
        "sum=0\n",
        "for i in range(len(my_list)):\n",
        "    sum=sum+my_list[i]\n",
        "    i+=1\n",
        "print(\"The sum of teh given list is :\",sum)\n",
        "# The give list is : [1, 2, 3, 4, 6, 7, 8, 9]\n",
        "# The sum of teh given list is : 40\n",
        "\n",
        "\n"
      ]
    },
    {
      "cell_type": "code",
      "execution_count": null,
      "metadata": {},
      "outputs": [],
      "source": [
        "#I(TECHM)\n",
        "#WAP for getting the alternate letter  in a string\n",
        "string=\"Hi today is sunday\"\n",
        "print(string[::2])\n",
        "#a)hlotdyi udy"
      ]
    },
    {
      "cell_type": "code",
      "execution_count": null,
      "metadata": {},
      "outputs": [],
      "source": [
        "a=lambda x,y:x*y\n",
        "print(a(7,8))"
      ]
    },
    {
      "cell_type": "code",
      "execution_count": null,
      "metadata": {},
      "outputs": [],
      "source": [
        "#I\n",
        "\n",
        "# Python prog to illustrate the following in a list\n",
        "def find_len(list1):\n",
        "    length = len(list1)\n",
        "    list1.sort()\n",
        "    print(\"Largest element is:\", list1[length-1])\n",
        "    print(\"Smallest element is:\", list1[0])\n",
        "    print(\"Second Largest element is:\", list1[length-2])\n",
        "    print(\"Second Smallest element is:\", list1[1])\n",
        " \n",
        "# Driver Code\n",
        "list1=[12, 45, 2, 41, 31, 10, 8, 6, 4]\n",
        "Largest = find_len(list1)"
      ]
    },
    {
      "cell_type": "code",
      "execution_count": null,
      "metadata": {},
      "outputs": [],
      "source": [
        "\n",
        "\n",
        "# Python code to count and display number of vowels\n",
        "# Simply using for and comparing it with a \n",
        "# string containing all vowels\n",
        "def Check_Vow(string, vowels):\n",
        "    final = [each for each in string if each in vowels]\n",
        "    print(len(final))\n",
        "    print(final)\n",
        "     \n",
        "# Driver Code\n",
        "string = \"Geeks for Geeks\"\n",
        "vowels = \"AaEeIiOoUu\"\n",
        "Check_Vow(string, vowels);"
      ]
    },
    {
      "cell_type": "code",
      "execution_count": null,
      "metadata": {},
      "outputs": [],
      "source": []
    }
  ],
  "metadata": {
    "colab": {
      "provenance": []
    },
    "kernelspec": {
      "display_name": "Python 3",
      "name": "python3"
    },
    "language_info": {
      "name": "python"
    }
  },
  "nbformat": 4,
  "nbformat_minor": 0
}
