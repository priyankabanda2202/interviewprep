{
  "nbformat": 4,
  "nbformat_minor": 0,
  "metadata": {
    "colab": {
      "provenance": []
    },
    "kernelspec": {
      "name": "python3",
      "display_name": "Python 3"
    },
    "language_info": {
      "name": "python"
    }
  },
  "cells": [
    {
      "cell_type": "code",
      "execution_count": 13,
      "metadata": {
        "colab": {
          "base_uri": "https://localhost:8080/"
        },
        "id": "_Vq3z1fNb0ta",
        "outputId": "e5d9a62d-ab80-4afa-c3e2-bd827d7e0ed9"
      },
      "outputs": [
        {
          "output_type": "stream",
          "name": "stdout",
          "text": [
            "Please enter an integer:8878\n",
            "the entered number is : 8878\n",
            "After reversing  8788\n"
          ]
        }
      ],
      "source": [
        "#Python program to reverse a number with explanation\n",
        "#y using while loop\n",
        "n=int(input(\"Please enter an integer:\"))\n",
        "print(\"the entered number is :\",n)\n",
        "\n",
        "reverse=0\n",
        "while n!=0:\n",
        "  reverse=reverse*10+n%10\n",
        "  n=n//10\n",
        "print(\"After reversing \",reverse)\n",
        "  #>>> 10 / 3(division operator)\n",
        "#3.3333333333333335\n",
        "#>>> 10 // 3floor division operator\n",
        "#3\n",
        "#5%2=1Modulus operator\n",
        "#5*3=15(multiplication)\n",
        "#2**5=2*2*2*2*2=32(Exponentiation)\n",
        "\n"
      ]
    },
    {
      "cell_type": "code",
      "source": [
        "#using slicing operator---------------**\n",
        "def reverse_number(number):\n",
        "    num_list=list(str(number))\n",
        "    reversed_num=int(''.join(num_list[::-1]))\n",
        "    return reversed_num\n",
        "\n",
        "original_number=int(input(\"please enter a number:\"))\n",
        "result=reverse_number(original_number)\n",
        "print(\"original number:\",original_number)\n",
        "print(\"after reversing:\",result)"
      ],
      "metadata": {
        "colab": {
          "base_uri": "https://localhost:8080/"
        },
        "id": "KNUCpPkJncnN",
        "outputId": "482c9085-581a-4e5a-86e4-fae550ba6f27"
      },
      "execution_count": 14,
      "outputs": [
        {
          "output_type": "stream",
          "name": "stdout",
          "text": [
            "please enter a number:68798\n",
            "original number: 68798\n",
            "after reversing: 89786\n"
          ]
        }
      ]
    },
    {
      "cell_type": "code",
      "source": [
        "#python program to determine  whether the number is a Armstrng number or not\n",
        "#function to calculate x raised  to raised to power of y\n",
        "\n",
        "def power(x,y):\n",
        "  if y==0:\n",
        "    return 1\n",
        "  if y%2==0:\n",
        "    return power(x,y//2)*power(x,y//2)\n",
        "  return x*power(x,y//2)*power(x,y//2)\n",
        "\n",
        "#Function to calculate order of the number\n",
        "def order(x):\n",
        "  #variable to store of the number\n",
        "  n=0\n",
        "  while(x!=0):\n",
        "    n=n+1\n",
        "    x=x//10\n",
        "  return n\n",
        "\n",
        "#function to check whether the given number is a amstrong or not :\n",
        "def isArmstrong(x):\n",
        "  n=order(x)\n",
        "  temp=x\n",
        "  sum1=0\n",
        "  while(temp!=0):\n",
        "    r=temp%10\n",
        "    sum1=sum1+power(r,n)\n",
        "    temp=temp//10\n",
        "  #if condition satisfies\n",
        "  return (sum1==x)\n",
        "\n",
        "#Driver code:\n",
        "x=153\n",
        "print(isArmstrong(x))\n",
        "x=1253\n",
        "print(isArmstrong(x))\n",
        "#153=1*1*1+5*5*5+3*3*3//153 is a armstrong number\n",
        "#120 is not a Armstrong number.1*1*1 + 2*2*2 + 0*0*0 = 9"
      ],
      "metadata": {
        "id": "XS7R2iSPnz6u"
      },
      "execution_count": null,
      "outputs": []
    },
    {
      "cell_type": "code",
      "source": [
        "#Prime Number Program in Python with Explanation\n",
        "num=4\n",
        "\n",
        "if num >1:\n",
        "  for i in range(2,int(num/2)+1):\n",
        "\n",
        "    if (num%i)==0:\n",
        "      print(num,\"is not prime\")\n",
        "      break\n",
        "  else:\n",
        "      print(num,\"is prime\")\n",
        "else:\n",
        "  print(num,\"is not prime\")"
      ],
      "metadata": {
        "colab": {
          "base_uri": "https://localhost:8080/"
        },
        "id": "XTTp9vinzUzC",
        "outputId": "38d98ba1-4aca-474d-ffeb-46965e94702a"
      },
      "execution_count": 26,
      "outputs": [
        {
          "output_type": "stream",
          "name": "stdout",
          "text": [
            "4 is not prime\n"
          ]
        }
      ]
    },
    {
      "cell_type": "code",
      "source": [
        "def fibonacci(n):\n",
        "  l=[0,1]\n",
        "  for i in range(2,n):\n",
        "    l.append(l[-1]+l[-2])\n",
        "  return l\n",
        "#Main function\n",
        "if __name__==\"__main__\":\n",
        "  #defning total numer of elements:\n",
        "  n=10\n",
        "  #calling the fibonacci function\n",
        "  fibo=fibonacci(n)\n",
        "  #displaying the function\n",
        "  print(\"fibonacci Series:\",*fibo)\n"
      ],
      "metadata": {
        "colab": {
          "base_uri": "https://localhost:8080/"
        },
        "id": "ZbZ_uNEUzU01",
        "outputId": "1b8d5678-ec6a-4ad7-ee44-62c951fef414"
      },
      "execution_count": 28,
      "outputs": [
        {
          "output_type": "stream",
          "name": "stdout",
          "text": [
            "fibonacci Series: 0 1 1 2 3 5 8 13 21 34\n"
          ]
        }
      ]
    },
    {
      "cell_type": "code",
      "source": [
        "#numner palindrome or not\n",
        "num=input(\"Please enter a number:\")\n",
        "if num==num[::-1]:\n",
        "  print(\"yes it is sa palindrome\")\n",
        "else:\n",
        "  print(\"no it is not a palindrome\")"
      ],
      "metadata": {
        "id": "WTOQJElJzU34"
      },
      "execution_count": null,
      "outputs": []
    },
    {
      "cell_type": "code",
      "source": [
        "#Python program to remove given character from String.\n",
        "def remove_char(s1,s2):\n",
        "  #string.replace(oldvalue, newvalue, count)\n",
        "  print(s1.replace(s2,''))\n",
        "s1=input(\"Please give a string:\")\n",
        "s2=input(\"Please give a character to remove:\")\n",
        "remove_char(s1,s2)"
      ],
      "metadata": {
        "colab": {
          "base_uri": "https://localhost:8080/"
        },
        "id": "AJBUl0N5zU5V",
        "outputId": "d5a522c2-86f6-4dde-d910-d9fe32caa27b"
      },
      "execution_count": 30,
      "outputs": [
        {
          "output_type": "stream",
          "name": "stdout",
          "text": [
            "Please give a string:hgajhskj\n",
            "Please give a character to remove:h\n",
            "gajskj\n"
          ]
        }
      ]
    },
    {
      "cell_type": "code",
      "source": [
        "#Python Program to count occurrence of a given characters in string.----****\n",
        "\n",
        "string=input(\"please enter  a string:\")\n",
        "char=input(\"Please enter a Character:\")\n",
        "count=0\n",
        "for i in range(len(string)):\n",
        "  if (string[i]==char):\n",
        "    count+=1\n",
        "print(\"Total number of occurances of \",char,\"is:\",count)\n",
        "\n",
        "\n",
        "\n"
      ],
      "metadata": {
        "colab": {
          "base_uri": "https://localhost:8080/"
        },
        "id": "b5do2zsWCGK0",
        "outputId": "1bb2eeb8-81d6-4a2c-a8e0-e6b8f8636de7"
      },
      "execution_count": 31,
      "outputs": [
        {
          "output_type": "stream",
          "name": "stdout",
          "text": [
            "please enter  a string:hdgihruhirjjaioa\n",
            "Please enter a Character:h\n",
            "Total number of occurances of  h is: 3\n"
          ]
        }
      ]
    },
    {
      "cell_type": "code",
      "source": [
        "#Python Program to check if two Strings are Anagram.\n",
        "\n",
        "\n",
        "def anagram(str1,str2):\n",
        "  if (sorted(str1)==sorted(str2)):\n",
        "    return True\n",
        "  else:\n",
        "    return False\n",
        "string1=input(\"please eenter a strng:\")\n",
        "string2=input(\"please enter a strng2:\")\n",
        "anagram(string1,string2)"
      ],
      "metadata": {
        "colab": {
          "base_uri": "https://localhost:8080/"
        },
        "id": "hQ9goB9sGxjt",
        "outputId": "7c0e3e24-959b-4bbf-c7f6-e454cf140bc5"
      },
      "execution_count": 33,
      "outputs": [
        {
          "name": "stdout",
          "output_type": "stream",
          "text": [
            "please eenter a strng:abc\n",
            "please enter a strng2:cba\n"
          ]
        },
        {
          "output_type": "execute_result",
          "data": {
            "text/plain": [
              "True"
            ]
          },
          "metadata": {},
          "execution_count": 33
        }
      ]
    },
    {
      "cell_type": "code",
      "source": [],
      "metadata": {
        "id": "RnoVXRvLLm8B"
      },
      "execution_count": null,
      "outputs": []
    }
  ]
}